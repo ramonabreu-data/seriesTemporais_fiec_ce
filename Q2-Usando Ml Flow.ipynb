{
  "cells": [
    {
      "cell_type": "code",
      "execution_count": null,
      "metadata": {
        "id": "ShiNABfpmw2g"
      },
      "outputs": [],
      "source": [
        "pip install mlflow\n",
        "\n",
        "import pandas as pd\n",
        "import seaborn as sns\n",
        "import matplotlib.pyplot as plt\n",
        "import mlflow\n",
        "import mlflow.sklearn\n",
        "\n",
        "\n",
        "# Carregando o Data Set\n",
        "df = pd.read_csv(\"jena_climate_2009_2016.csv\")\n",
        "\n",
        "# Modificando as colunas \"Date Time\" e \"T (degC)\"\n",
        "df.rename(columns={\"Date Time\": \"DateTime\", \"T (degC)\": \"T_(degC)\"}, inplace=True)\n",
        "\n",
        "# Setando o formato DateTime\n",
        "df[\"DateTime\"] = pd.to_datetime(df[\"DateTime\"], format='%d.%m.%Y %H:%M:%S')\n",
        "\n",
        "# Transformando DateTime no Index\n",
        "df.set_index(\"DateTime\", inplace=True)\n",
        "\n",
        "# Criando duas séries temporais, com intervalos de 10 minutos e 60 minutos.\n",
        "df_10min = df.resample('10T').mean()\n",
        "df_60min = df.resample('60T').mean()\n",
        "\n",
        "# Aprendizado supervisionado com intervalo de 10 minutos\n",
        "with mlflow.start_run():\n",
        "  # Treino\n",
        "  model = SomeSupervisedLearningModel()\n",
        "  model.fit(df_10min)\n",
        "  \n",
        "  # parametros\n",
        "  mlflow.log_param(\"interval\", \"10min\")\n",
        "  mlflow.sklearn.log_model(model, \"model\")\n",
        "  \n",
        "  # Plotagem gráfico série 10 min\n",
        "  sns.lineplot(data=df_10min, x=df_10min.index, y=\"T_(degC)\")\n",
        "  plt.show()\n",
        "  \n",
        "# Aprendizado supervisionado com intervalo de 60 minutos\n",
        "with mlflow.start_run():\n",
        "  # treino modelo\n",
        "  model = SomeSupervisedLearningModel()\n",
        "  model.fit(df_60min)\n",
        "  \n",
        "  # parametros\n",
        "  mlflow.log_param(\"interval\", \"60min\")\n",
        "  mlflow.sklearn.log_model(model, \"model\")\n",
        "  \n",
        "  # Plotagem gráfico série 60 min\n",
        "  sns.lineplot(data=df_60min, x=df_60min.index, y=\"T_(degC)\")\n",
        "  plt.show()\n",
        "\n",
        "# Aprendizado não supervisionado com intervalo de 10 minutos\n",
        "with mlflow.start_run():\n",
        "  #Treino modelo\n",
        "  model = SomeUnsupervisedLearningModel()\n",
        "  model.fit(df_10min)\n",
        "  \n",
        "  # parametros\n",
        "  mlflow.log_param(\"interval\", \"10min\")\n",
        "  mlflow.sklearn.log_model(model, \"model\")\n",
        "  \n",
        "  # Plotagem gráfico série 10 min\n",
        "  sns.lineplot(data=df_10min, x=df_10min.index, y=\"T_(degC)\")\n",
        "  plt.show"
      ]
    }
  ],
  "metadata": {
    "colab": {
      "private_outputs": true,
      "provenance": []
    },
    "kernelspec": {
      "display_name": "Python 3",
      "name": "python3"
    },
    "language_info": {
      "name": "python"
    }
  },
  "nbformat": 4,
  "nbformat_minor": 0
}
